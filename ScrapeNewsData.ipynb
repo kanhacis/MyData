{
 "cells": [
  {
   "cell_type": "markdown",
   "id": "3580d701-d8ee-4971-a594-fa9b33f010dc",
   "metadata": {},
   "source": [
    "## Fetching data"
   ]
  },
  {
   "cell_type": "code",
   "execution_count": 8,
   "id": "a5e163a0-5515-4b58-acc6-f37f35645fd6",
   "metadata": {},
   "outputs": [
    {
     "name": "stdout",
     "output_type": "stream",
     "text": [
      "2\n"
     ]
    }
   ],
   "source": [
    "import requests\n",
    "from bs4 import BeautifulSoup\n",
    "import pandas as pd\n",
    "\n",
    "url = 'https://news.ycombinator.com/news'\n",
    "response = requests.get(url)\n",
    "page_content = response.text\n",
    "soup = BeautifulSoup(page_content, 'html.parser')\n",
    "\n",
    "# Find the last page number\n",
    "last_page = int(soup.select('.morelink')[0]['href'].split('p=')[1])\n",
    "print(last_page)\n",
    "\n",
    "urls_info = []\n",
    "heading = []\n",
    "\n",
    "for i in range(1, 21):\n",
    "    new_url = f'{url}?p={i}'\n",
    "    response = requests.get(new_url)\n",
    "    page_content = response.text\n",
    "    soup = BeautifulSoup(page_content, 'html.parser')\n",
    "    span_elements = soup.select('span.titleline')\n",
    "\n",
    "    for span_element in span_elements:\n",
    "        heading.append(span_element.text)\n",
    "        anchor_elements = span_element.find_all('a')\n",
    "\n",
    "        for anchor in anchor_elements:\n",
    "            href = anchor.get('href')\n",
    "            if href.startswith('http') or href.startswith('item?id'):\n",
    "                urls_info.append(href)\n",
    "\n",
    "    data = pd.DataFrame({\n",
    "        'H': heading,\n",
    "        'U': urls_info\n",
    "    })"
   ]
  },
  {
   "cell_type": "code",
   "execution_count": 10,
   "id": "5458fe11-a4b1-4d65-b5a6-d612635ef538",
   "metadata": {},
   "outputs": [
    {
     "data": {
      "text/html": [
       "<div>\n",
       "<style scoped>\n",
       "    .dataframe tbody tr th:only-of-type {\n",
       "        vertical-align: middle;\n",
       "    }\n",
       "\n",
       "    .dataframe tbody tr th {\n",
       "        vertical-align: top;\n",
       "    }\n",
       "\n",
       "    .dataframe thead th {\n",
       "        text-align: right;\n",
       "    }\n",
       "</style>\n",
       "<table border=\"1\" class=\"dataframe\">\n",
       "  <thead>\n",
       "    <tr style=\"text-align: right;\">\n",
       "      <th></th>\n",
       "      <th>H</th>\n",
       "      <th>U</th>\n",
       "    </tr>\n",
       "  </thead>\n",
       "  <tbody>\n",
       "    <tr>\n",
       "      <th>0</th>\n",
       "      <td>The first stable release of a memory safe sudo...</td>\n",
       "      <td>https://www.memorysafety.org/blog/sudo-first-s...</td>\n",
       "    </tr>\n",
       "    <tr>\n",
       "      <th>1</th>\n",
       "      <td>Show HN: Ladder, open source alternative to 12...</td>\n",
       "      <td>https://github.com/kubero-dev/ladder</td>\n",
       "    </tr>\n",
       "    <tr>\n",
       "      <th>2</th>\n",
       "      <td>Mastering DOM manipulation with vanilla JavaSc...</td>\n",
       "      <td>https://phuoc.ng/collection/html-dom/</td>\n",
       "    </tr>\n",
       "    <tr>\n",
       "      <th>3</th>\n",
       "      <td>A Video Game That Pays: Lessons Learned from W...</td>\n",
       "      <td>https://dtransposed.github.io/blog/2023/11/02/...</td>\n",
       "    </tr>\n",
       "    <tr>\n",
       "      <th>4</th>\n",
       "      <td>The Future of Synapse and Dendrite (matrix.org)</td>\n",
       "      <td>https://matrix.org/blog/2023/11/06/future-of-s...</td>\n",
       "    </tr>\n",
       "    <tr>\n",
       "      <th>...</th>\n",
       "      <td>...</td>\n",
       "      <td>...</td>\n",
       "    </tr>\n",
       "    <tr>\n",
       "      <th>581</th>\n",
       "      <td>Microsoft is removing Maps and Movies and TV f...</td>\n",
       "      <td>https://gadgettendency.com/microsoft-is-removi...</td>\n",
       "    </tr>\n",
       "    <tr>\n",
       "      <th>582</th>\n",
       "      <td>[dupe] The Secretive Industry Devouring the U...</td>\n",
       "      <td>https://www-stage.theatlantic.com/ideas/archiv...</td>\n",
       "    </tr>\n",
       "    <tr>\n",
       "      <th>583</th>\n",
       "      <td>Little tool can crash an iPhone running iOS 17...</td>\n",
       "      <td>https://www.theverge.com/2023/11/3/23944901/ap...</td>\n",
       "    </tr>\n",
       "    <tr>\n",
       "      <th>584</th>\n",
       "      <td>America's shoplifting problem, explained by re...</td>\n",
       "      <td>https://www.vox.com/money/23938554/shoplifting...</td>\n",
       "    </tr>\n",
       "    <tr>\n",
       "      <th>585</th>\n",
       "      <td>AI fake nudes are booming. It's ruining real t...</td>\n",
       "      <td>https://www.washingtonpost.com/technology/2023...</td>\n",
       "    </tr>\n",
       "  </tbody>\n",
       "</table>\n",
       "<p>586 rows × 2 columns</p>\n",
       "</div>"
      ],
      "text/plain": [
       "                                                     H  \\\n",
       "0    The first stable release of a memory safe sudo...   \n",
       "1    Show HN: Ladder, open source alternative to 12...   \n",
       "2    Mastering DOM manipulation with vanilla JavaSc...   \n",
       "3    A Video Game That Pays: Lessons Learned from W...   \n",
       "4      The Future of Synapse and Dendrite (matrix.org)   \n",
       "..                                                 ...   \n",
       "581  Microsoft is removing Maps and Movies and TV f...   \n",
       "582   [dupe] The Secretive Industry Devouring the U...   \n",
       "583  Little tool can crash an iPhone running iOS 17...   \n",
       "584  America's shoplifting problem, explained by re...   \n",
       "585  AI fake nudes are booming. It's ruining real t...   \n",
       "\n",
       "                                                     U  \n",
       "0    https://www.memorysafety.org/blog/sudo-first-s...  \n",
       "1                 https://github.com/kubero-dev/ladder  \n",
       "2                https://phuoc.ng/collection/html-dom/  \n",
       "3    https://dtransposed.github.io/blog/2023/11/02/...  \n",
       "4    https://matrix.org/blog/2023/11/06/future-of-s...  \n",
       "..                                                 ...  \n",
       "581  https://gadgettendency.com/microsoft-is-removi...  \n",
       "582  https://www-stage.theatlantic.com/ideas/archiv...  \n",
       "583  https://www.theverge.com/2023/11/3/23944901/ap...  \n",
       "584  https://www.vox.com/money/23938554/shoplifting...  \n",
       "585  https://www.washingtonpost.com/technology/2023...  \n",
       "\n",
       "[586 rows x 2 columns]"
      ]
     },
     "execution_count": 10,
     "metadata": {},
     "output_type": "execute_result"
    }
   ],
   "source": [
    "data"
   ]
  },
  {
   "cell_type": "code",
   "execution_count": 12,
   "id": "b9972ce4-06ce-41d9-9280-1fd5a7760363",
   "metadata": {},
   "outputs": [],
   "source": [
    "data.to_csv('data1.csv', index=False)"
   ]
  }
 ],
 "metadata": {
  "kernelspec": {
   "display_name": "Python 3 (ipykernel)",
   "language": "python",
   "name": "python3"
  },
  "language_info": {
   "codemirror_mode": {
    "name": "ipython",
    "version": 3
   },
   "file_extension": ".py",
   "mimetype": "text/x-python",
   "name": "python",
   "nbconvert_exporter": "python",
   "pygments_lexer": "ipython3",
   "version": "3.10.12"
  }
 },
 "nbformat": 4,
 "nbformat_minor": 5
}
